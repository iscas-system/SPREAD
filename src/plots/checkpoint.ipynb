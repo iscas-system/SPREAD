{
 "cells": [
  {
   "cell_type": "code",
   "execution_count": null,
   "metadata": {
    "collapsed": true
   },
   "outputs": [],
   "source": [
    "\n",
    "\n",
    "from matplotlib.ticker import PercentFormatter\n",
    "\n",
    "from common import *\n",
    "from record_preprocess import *"
   ]
  },
  {
   "cell_type": "code",
   "execution_count": null,
   "outputs": [],
   "source": [
    "\n",
    "load_all_play_records()"
   ],
   "metadata": {
    "collapsed": false
   }
  },
  {
   "cell_type": "code",
   "execution_count": null,
   "outputs": [],
   "source": [
    "\n",
    "class CheckpointInfo:\n",
    "    def __init__(self, model_name: ModelName, iteration_intervals: List[int], checkpoint_size: int):\n",
    "        self.model_name: ModelName = model_name\n",
    "        self.iteration_intervals: List[int] = iteration_intervals\n",
    "        self.checkpoint_size: int = checkpoint_size\n",
    "\n",
    "    @staticmethod\n",
    "    def from_json(json_dict: Dict):\n",
    "        model_name = ModelName(json_dict[\"model_name\"])\n",
    "        iteration_intervals = json_dict[\"iteration_intervals\"]\n",
    "        checkpoint_size = json_dict[\"extra_dict\"][\"checkpoint_size\"]\n",
    "        return CheckpointInfo(model_name=model_name,\n",
    "                              iteration_intervals=iteration_intervals,\n",
    "                              checkpoint_size=checkpoint_size)\n",
    "\n",
    "    def avg_overhead(self) -> float:\n",
    "        nanos = np.array(self.iteration_intervals)\n",
    "        seconds = nanos / 1e9\n",
    "        save_load_overhead = np.mean(seconds)\n",
    "        bandwidth = 100 * 1024 * 1024 / 5\n",
    "        transfer_overhead = self.checkpoint_size / bandwidth\n",
    "        overhead = save_load_overhead + transfer_overhead + 3\n",
    "        return overhead\n",
    "\n",
    "\n",
    "checkpoint_infos: Dict[ModelName, CheckpointInfo] = dict()\n",
    "\n",
    "\n",
    "def load_checkpoint_infos():\n",
    "    directory = \"./datas/checkpoint_data\"\n",
    "    for filename in os.listdir(directory):\n",
    "        if \"checkpoint\" not in filename:\n",
    "            continue\n",
    "        filepath = pathlib.Path(directory) / filename\n",
    "        with open(filepath, 'r') as f:\n",
    "            d = json.load(f)\n",
    "        checkpoint_infos[ModelName(d[\"model_name\"])] = CheckpointInfo.from_json(d)\n"
   ],
   "metadata": {
    "collapsed": false
   }
  },
  {
   "cell_type": "code",
   "execution_count": null,
   "outputs": [],
   "source": [
    "\n",
    "load_checkpoint_infos()\n"
   ],
   "metadata": {
    "collapsed": false
   }
  },
  {
   "cell_type": "code",
   "execution_count": null,
   "outputs": [],
   "source": [
    "\n",
    "def plot_checkpoint_overhead_bar():\n",
    "    original_fontsize = mpl.rcParams[\"font.size\"]\n",
    "    mpl.rcParams.update({'font.size': 24})\n",
    "    fig, ax = plt.subplots(figsize=(10, 3))\n",
    "    model_names = [\n",
    "        # ModelName.SqueezeNet,\n",
    "        ModelName.YoloV5N,\n",
    "        ModelName.YoloV5S,\n",
    "        ModelName.ConvNeXtT,\n",
    "        # ModelName.ConvNeXtS,\n",
    "        # ModelName.EfficientNet,\n",
    "        ModelName.MobileNetV2,\n",
    "        # ModelName.MobileNetV3S,\n",
    "        # ModelName.GhostNet,\n",
    "        ModelName.ShuffleNet,\n",
    "        ModelName.HarDNet,\n",
    "        ModelName.MEALV2,\n",
    "        # ModelName.InceptionV3,\n",
    "        ModelName.ResNet18,\n",
    "        # ModelName.ResNet50,\n",
    "    ]\n",
    "    width = 0.25\n",
    "    X = np.arange(len(model_names))\n",
    "    y_data = list()\n",
    "    for model_name in model_names:\n",
    "        y_data.append(checkpoint_infos[model_name].avg_overhead())\n",
    "\n",
    "    ax.bar(X, y_data,\n",
    "           width=width,\n",
    "           hatch=\"/\",\n",
    "           edgecolor=\"black\",\n",
    "           linewidth=1)\n",
    "\n",
    "    ax.yaxis.grid(True)\n",
    "    ax.set_xticks(X, labels=[model_name_spec(model_name)[\"label\"] for model_name in model_names], rotation=35)\n",
    "    ax.set_yticks([5, 10])\n",
    "    ax.set_ylabel(\"Average Preemption\\nDuration (second)\")\n",
    "    save_fig(fig, output_path(\"preemption_overhead_bar.pdf\"))\n",
    "    mpl.rcParams.update({'font.size': original_fontsize})\n",
    "\n",
    "\n",
    "def plot_checkpoint_record_cdfs():\n",
    "    original_fontsize = mpl.rcParams[\"font.size\"]\n",
    "    mpl.rcParams.update({'font.size': 28})\n",
    "    fig, ax = plt.subplots(figsize=(14, 5))\n",
    "    data_source_names = [\n",
    "        DataSourceName.DataSourceAliDyn,\n",
    "        DataSourceName.DataSourceAliSta,\n",
    "        DataSourceName.DataSourcePhiDyn,\n",
    "        DataSourceName.DataSourcePhiSta,\n",
    "    ]\n",
    "    for data_source in data_source_names:\n",
    "        spec = data_source_to_spec(data_source)\n",
    "        play_record = extract_play_record(mode=SessionMode.Trace,\n",
    "                                          data_source_name=data_source,\n",
    "                                          cluster_name=ClusterName.Cluster64,\n",
    "                                          scheduler_name=SchedulerName.SPREAD)\n",
    "        assert len(play_record) == 1\n",
    "        play_record = play_record[0]\n",
    "        job_ID_to_preemptive_count = defaultdict(int)\n",
    "        for preemptive_record in play_record.preemptive_records:\n",
    "            for job_ID in preemptive_record.job_ID_to_overhead:\n",
    "                job_ID_to_preemptive_count[job_ID] += 1\n",
    "        ratios = list()\n",
    "        for done_job in play_record.done_records.values():\n",
    "            runtime = done_job.completion_time - done_job.start_time\n",
    "            # runtime /= 1e9\n",
    "            preemptive_count = job_ID_to_preemptive_count[done_job.job_ID]\n",
    "            job_spec = play_record.job_specs[done_job.job_ID]\n",
    "            total_preemptive_overhead = preemptive_count * checkpoint_infos[job_spec.model_name].avg_overhead()\n",
    "            ratio = total_preemptive_overhead / runtime\n",
    "            ratios.append(ratio)\n",
    "\n",
    "        x = ratios\n",
    "        x, y = sorted(x), np.arange(len(x)) / len(x)\n",
    "        ax.plot(x, y,\n",
    "                label=spec[\"label\"],\n",
    "                color=spec[\"color\"],\n",
    "                linewidth=4,\n",
    "                linestyle=\"-\")\n",
    "\n",
    "    ax.legend(loc=\"lower right\")\n",
    "    ax.yaxis.set_major_formatter(PercentFormatter(xmax=1))\n",
    "    ax.xaxis.set_major_formatter(plt_ticker.FuncFormatter('{0:.1%}'.format))\n",
    "    ax.set_yticks([0, 0.5, 0.9, 1])\n",
    "    ax.xaxis.grid(True)\n",
    "    ax.yaxis.grid(True)\n",
    "    ax.set_ylabel(\"CDF\")\n",
    "    ax.set_xlabel(\"Job Preemption Overhead\")\n",
    "    fig.tight_layout()\n",
    "    save_fig(fig, output_path(\"preemption_overhead_trace_cdfs.pdf\"))\n",
    "    mpl.rcParams.update({'font.size': original_fontsize})\n"
   ],
   "metadata": {
    "collapsed": false
   }
  },
  {
   "cell_type": "code",
   "execution_count": null,
   "outputs": [],
   "source": [
    "print(checkpoint_infos)\n",
    "plot_checkpoint_overhead_bar()\n",
    "plot_checkpoint_record_cdfs()\n"
   ],
   "metadata": {
    "collapsed": false
   }
  },
  {
   "cell_type": "code",
   "execution_count": null,
   "outputs": [],
   "source": [],
   "metadata": {
    "collapsed": false
   }
  }
 ],
 "metadata": {
  "kernelspec": {
   "display_name": "Python 3",
   "language": "python",
   "name": "python3"
  },
  "language_info": {
   "codemirror_mode": {
    "name": "ipython",
    "version": 2
   },
   "file_extension": ".py",
   "mimetype": "text/x-python",
   "name": "python",
   "nbconvert_exporter": "python",
   "pygments_lexer": "ipython2",
   "version": "2.7.6"
  }
 },
 "nbformat": 4,
 "nbformat_minor": 0
}
